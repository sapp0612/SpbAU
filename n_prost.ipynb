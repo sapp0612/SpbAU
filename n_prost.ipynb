{
 "cells": [
  {
   "cell_type": "code",
   "execution_count": 2,
   "id": "8ff512b3",
   "metadata": {},
   "outputs": [
    {
     "name": "stdout",
     "output_type": "stream",
     "text": [
      "True\n",
      "False\n",
      "False\n",
      "True\n",
      "False\n",
      "True\n"
     ]
    }
   ],
   "source": [
    "import math\n",
    "def primality(n):\n",
    "    a = 0\n",
    "    if n == 2:\n",
    "        return True\n",
    "    elif n < 2:\n",
    "        return False\n",
    "    for i in range(2, math.ceil(math.sqrt(n)) + 1):\n",
    "        if n % i == 0:\n",
    "            a += 1\n",
    "    if a == 0:\n",
    "        return True\n",
    "    else:\n",
    "        return False\n",
    "     \n",
    "# Пример\n",
    "print (primality (2))\n",
    "print(primality(-7))\n",
    "print (primality (4))\n",
    "print (primality (3571))\n",
    "print (primality (800))\n",
    "print (primality (17))\n",
    "\n"
   ]
  },
  {
   "cell_type": "code",
   "execution_count": null,
   "id": "5ab025fc",
   "metadata": {},
   "outputs": [],
   "source": []
  }
 ],
 "metadata": {
  "kernelspec": {
   "display_name": "Python 3",
   "language": "python",
   "name": "python3"
  },
  "language_info": {
   "codemirror_mode": {
    "name": "ipython",
    "version": 3
   },
   "file_extension": ".py",
   "mimetype": "text/x-python",
   "name": "python",
   "nbconvert_exporter": "python",
   "pygments_lexer": "ipython3",
   "version": "3.8.8"
  }
 },
 "nbformat": 4,
 "nbformat_minor": 5
}
