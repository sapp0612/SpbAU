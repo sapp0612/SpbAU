{
 "cells": [
  {
   "cell_type": "code",
   "execution_count": 1,
   "id": "51b4cd30",
   "metadata": {},
   "outputs": [
    {
     "name": "stdout",
     "output_type": "stream",
     "text": [
      "[1, 2, 3, 5, 8, 13, 21, 34]\n"
     ]
    }
   ],
   "source": [
    "import itertools\n",
    "class Fib:\n",
    "    \"\"\"По объектам этого класса можно итерироваться и получать 6 чисел Фибоначчи\"\"\"\n",
    "\n",
    "    class _Fib_iter:\n",
    "        \"\"\"Внутренний класс — итератор\"\"\"\n",
    "        def __init__(self):\n",
    "            self.fib1 = 1\n",
    "            self.fib2 = 1\n",
    "        \n",
    "        def __next__(self):\n",
    "            fib = self.fib1\n",
    "            self.fib1, self.fib2 = self.fib2, self.fib2 + self.fib1\n",
    "            fib = self.fib1\n",
    "            return fib\n",
    "\n",
    "    def __iter__(self):\n",
    "        \"\"\"Создать и вернуть итератор\"\"\"\n",
    "        return Fib._Fib_iter()\n",
    "print(list(itertools.islice(Fib(), 8)))"
   ]
  },
  {
   "cell_type": "code",
   "execution_count": null,
   "id": "6f57c7d7",
   "metadata": {},
   "outputs": [],
   "source": []
  }
 ],
 "metadata": {
  "kernelspec": {
   "display_name": "Python 3",
   "language": "python",
   "name": "python3"
  },
  "language_info": {
   "codemirror_mode": {
    "name": "ipython",
    "version": 3
   },
   "file_extension": ".py",
   "mimetype": "text/x-python",
   "name": "python",
   "nbconvert_exporter": "python",
   "pygments_lexer": "ipython3",
   "version": "3.8.8"
  }
 },
 "nbformat": 4,
 "nbformat_minor": 5
}
